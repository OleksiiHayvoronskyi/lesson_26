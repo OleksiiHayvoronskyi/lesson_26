{
 "cells": [
  {
   "cell_type": "markdown",
   "id": "051667d8",
   "metadata": {},
   "source": [
    "### Завдання 1. *Оцінити ймовірність того, що число телевізорів, які витримають гарантійний термін роботи, буде в межах $ [85; 95] $*.\n",
    " \n",
    "- [x] Ймовірність того, що телевізор витримає гарантійний термін роботи, дорівнює $ 0, 9 $ для всіх телевізорів, які обслуговувє гарантійна майстерня.\n",
    "   * Оцінити ймовірність того, що число телевізорів, які витримають гарантійний термін роботи, буде в межах $ [85; 95] $."
   ]
  },
  {
   "cell_type": "markdown",
   "id": "c31c52ad",
   "metadata": {},
   "source": [
    "Застосовую інтегральну **теорему Муавра-Лапласа**. $ \\\\ $\n",
    "*Якщо здійснюється $ n $ незалежних випробувань, у кожному з яких ймовірність появи випадкових подій $ A $ є величиною сталою і дорівнює $ p $, то ймовірність $ P_n(m_1 \\leq m < m_2) $ того, що $ m $ – кількість появи події $ A $ належить інтервалу $ [m_1, m_2] $ дорівнює:* $ \\\\ $\n",
    "$ P(m_1 \\leq m < m_2) \\approx Ф(\\frac{m_2 - np} {\\sqrt{npq}}) - Ф(\\frac{m_1 - np} {\\sqrt{npq)}}) $, $ \\\\ $\n",
    "$ Ф(x) = \\frac{1} {\\sqrt{2\\pi}} \\int\\limits^x _0 e^\\frac{-t^2} {2} dt $ – **табульова функція Лапласа**.\n"
   ]
  },
  {
   "cell_type": "markdown",
   "id": "29fa373a",
   "metadata": {},
   "source": [
    "Дані відповідно до умови задачі: $ \\\\ $\n",
    "$ p = 0,9 $ $ \\\\ $\n",
    "$ q = 0,1 $ $ \\\\ $\n",
    "$ n = 100 $ $ \\\\ $\n",
    "$ m_1 = 85 $ $ \\\\ $\n",
    "$ m_2 = 95 $ $ \\\\ $\n",
    "\n",
    "*Формула*: $ x_i = \\frac{m_i - np} {\\sqrt{npq}} $ $ \\\\ $"
   ]
  },
  {
   "cell_type": "markdown",
   "id": "bf59cc41",
   "metadata": {},
   "source": [
    "**Розв’язання**: $ \\\\ $\n",
    "$ n ⋅ p = 100 ⋅ 0,9 = 90 $; $ \\\\ $\n",
    "$ \\sqrt{npq} = \\sqrt{100 ⋅ 0,9 ⋅ 0,1 } = 3 $; $ \\\\ $\n",
    "$ P(85 \\leq m < 95) \\approx Ф(\\frac{95 - 90} {\\sqrt{3}}) - Ф(\\frac{85 - 90} {\\sqrt{3)}}) = 2Ф(\\frac{5}{3}) = 2Ф(1,6)$. $ \\\\ $\n",
    "*За таблицейю **Значення функції Лапласа** знайдене значення $ 1, 6 $ відповідає коефіцієнту $ 0,44520 $*, $ \\\\ $\n",
    "$ 2Ф(1,6) = 2 ⋅ 0,44520 = 0,8904 $ $ \\\\ $\n",
    "\n",
    "**РЕЗУЛЬТАТ**: $ 0,8904 $ $ \\\\ $\n",
    "Ймовірність того, що число телевізорів, які витримають гарантійний термін роботи, буде в межах $ [85;95] = 0,8904 $"
   ]
  },
  {
   "cell_type": "code",
   "execution_count": null,
   "id": "4898c418",
   "metadata": {},
   "outputs": [],
   "source": []
  },
  {
   "cell_type": "markdown",
   "id": "0816ef71",
   "metadata": {},
   "source": [
    "### Завдання 2. *Побудувати дискретний статистичний розподіл для цієї вибірки, полігон частот та  $ F*(x) $. Знайти моду і медіану*.\n",
    " \n",
    "- [x] При визначенні випадкової величини $ X $ у результаті $ 40 $  незалежних спостережень дістали вибірку: $ 10, 13, 10, 9, 9, 12, 12, 9, 7, 9, 8, 9, 11, 9, 14, 13, 9, 8, 8, 7, 10, 10, 11, 11, 11, 12, 8, 7, 9, 10, 14, 13, 8, 8, 9, 10, 11, 11, 12, 12 $.\n",
    "   * Побудувати дискретний статистичний розподіл для цієї вибірки, полігон частот та  $ F*(x) $.\n",
    "   * Знайти моду і медіану."
   ]
  },
  {
   "cell_type": "markdown",
   "id": "9004bd4f",
   "metadata": {},
   "source": [
    "**Статистичний розподіл вибірки** $ \\\\ $\n",
    "\n",
    "|                    |   |   |   |    |    |    |    |    |\n",
    "| :-:                |:-:|:-:|:-:|:-: |:-: |:-: |:-: |:-: |\n",
    "| $ x_i $ (величини) | 7 | 8 | 9 | 10 | 11 | 12 | 13 | 14 |\n",
    "| $ m_i $ (частоти)  | 3 | 6 | 9 | 6  | 6  | 5  | 3  | 2  |\n",
    "\n",
    "**Обсяг вибірки**: $ \\\\ $\n",
    "$ n = 3 + 6 + 9 + 6 + 6 + 5 + 3 + 2 = 40 $"
   ]
  },
  {
   "cell_type": "markdown",
   "id": "b3608e1d",
   "metadata": {},
   "source": [
    "**Полігон частот**:"
   ]
  },
  {
   "cell_type": "code",
   "execution_count": 6,
   "id": "7e7edd0a",
   "metadata": {},
   "outputs": [
    {
     "name": "stdout",
     "output_type": "stream",
     "text": [
      "Sorted list: {7: 3, 8: 8, 9: 9, 10: 6, 11: 6, 12: 5, 13: 3, 14: 2}\n"
     ]
    }
   ],
   "source": [
    "values = (7, 7, 7, 8, 8, 8, 8, 8, 8, 8, 8, 9, 9, 9, 9, 9, 9, 9, 9, 9, 10, 10, 10, 10, 10, 10, \n",
    "        11, 11, 11, 11, 11, 11, 12, 12, 12, 12, 12, 13, 13, 13, 14, 14)\n",
    "\n",
    "\n",
    "# Відсортує елементи з частотою їх появи.\n",
    "def count_elements(seq) -> dict:     \n",
    "     hist = {}\n",
    "     for i in seq:\n",
    "         hist[i] = hist.get(i, 0) + 1\n",
    "     return hist\n",
    "\n",
    "\n",
    "counted = count_elements(values)\n",
    "\n",
    "count_elements(values)\n",
    "print('Sorted list:', counted)"
   ]
  },
  {
   "cell_type": "markdown",
   "id": "e028aae9",
   "metadata": {},
   "source": [
    "**Гістограма**"
   ]
  },
  {
   "cell_type": "code",
   "execution_count": 7,
   "id": "871cd0cf",
   "metadata": {},
   "outputs": [
    {
     "name": "stdout",
     "output_type": "stream",
     "text": [
      "Frequency [0. 3. 6. 9. 6. 6. 5. 3. 2.]\n",
      "Values [ 7  8  9 10 11 12 13 14 18]\n"
     ]
    },
    {
     "data": {
      "text/plain": [
       "Text(0.5, 1.0, 'Polygon of frequencies and intervals ')"
      ]
     },
     "execution_count": 7,
     "metadata": {},
     "output_type": "execute_result"
    },
    {
     "data": {
      "image/png": "[encoded data removed]",
      "text/plain": [
       "<Figure size 640x480 with 1 Axes>"
      ]
     },
     "metadata": {},
     "output_type": "display_data"
    }
   ],
   "source": [
    "import matplotlib.pyplot as plt\n",
    "\n",
    "value=[7, 7, 7, 8, 8, 8, 8, 8, 8, 9, 9, 9, 9, 9, 9, 9, 9, 9, 10, 10, 10, 10, 10, 10, 11, 11, 11, 11, 11, 11, 12, 12, 12, 12, 12, 13, 13, 13, 14, 14]\n",
    "intervals=[5, 7, 8, 9, 10, 11, 12, 13, 14, 18]\n",
    "plt.xticks(intervals)\n",
    "y,edges,_=plt.hist(value, bins=intervals, histtype='step', edgecolor='b')\n",
    "\n",
    "print('Frequency', y)\n",
    "print('Values', edges[1:])\n",
    "midpoints=0.5*(edges[1:]+edges[:-1])\n",
    "plt.plot(midpoints, y, 'y--*')\n",
    "\n",
    "\n",
    "plt.xlabel('Intervals')\n",
    "plt.ylabel('Frequency')\n",
    "plt.title('Polygon of frequencies and intervals ')\n",
    "\n"
   ]
  },
  {
   "cell_type": "markdown",
   "id": "0c2b2d3d",
   "metadata": {},
   "source": [
    "**Емпірична функція розподілу**: $ \\\\ $\n",
    "$ F_n(x) = \\frac{n_x}{n} $, $ \\\\ $\n",
    "де $ n_x $ – кількість варіантів вибірки, що менші за $ X $, $ \\\\ $\n",
    "$ n $ – обсяг вибірки. $ \\\\ $\n",
    "\n",
    "*Розв’язання*: $ \\\\ $\n",
    "$ F_n(x) = 0, (x \\leq 7) $ (спостережень менше за $ X $ немає). $ \\\\ $\n",
    "$ F_n(x) = \\frac{3}{40} = 0,075, (7 < x \\leq 8) $. $ \\\\ $\n",
    "$ F_n(x) = \\frac{9}{40} = 0,225, (8 < x \\leq 9) $. $ \\\\ $\n",
    "$ F_n(x) = \\frac{18}{40} = 0,45, (9 < x \\leq 10) $. $ \\\\ $\n",
    "$ F_n(x) = \\frac{24}{40} = 0,6, (10 < x \\leq 11) $. $ \\\\ $\n",
    "$ F_n(x) = \\frac{30}{40} = 0,75, (11 < x \\leq 12) $. $ \\\\ $\n",
    "$ F_n(x) = \\frac{35}{40} = 0,875, (12 < x \\leq 13) $. $ \\\\ $\n",
    "$ F_n(x) = \\frac{38}{40} = 0,95, (13 < x \\leq 14) $. $ \\\\ $\n",
    "$ F_n(x) = 1, (x > 14) $ ($ 14 $ – найбільша варіанта). $ \\\\ $"
   ]
  },
  {
   "cell_type": "markdown",
   "id": "6e0377b9",
   "metadata": {},
   "source": [
    "**Медіана**: $ \\\\ $\n",
    "$ M_e = \\frac{n + 1}{2} $,  $ \\\\ $\n",
    "де $ n $ – кількість елементів у таблиці ($ x_i $). $ \\\\ $\n",
    "$ M_e = \\frac{8 + 1}{2} = 4,5 $ (*номер медіани*). $ \\\\ $\n",
    "Номер медіани - це напівсума $ 4 $-го та $ 5 $-го значення у таблиці. $ \\\\ $\n",
    "$ M_e = \\frac{x_4 + x_5}{2} = \\frac{10 + 11}{2} = 10,5 $ $ \\\\ $\n",
    "**РЕЗУЛЬТАТ**: $ M_e = 10,5 $"
   ]
  },
  {
   "cell_type": "markdown",
   "id": "43c6ac8c",
   "metadata": {},
   "source": [
    "**Мода**: $ \\\\ $\n",
    "*Це значення, яку зустрічається частіше* $ \\\\ $\n",
    "У нашему випадку це число $ 9 $, яке зустрічається $ 9 $ разів (частота появи). $ \\\\ $ \n",
    "**РЕЗУЛЬТАТ**: $ M_o = 9 $\n"
   ]
  },
  {
   "cell_type": "code",
   "execution_count": null,
   "id": "7565d3d9",
   "metadata": {},
   "outputs": [],
   "source": []
  }
 ],
 "metadata": {
  "kernelspec": {
   "display_name": "Python 3 (ipykernel)",
   "language": "python",
   "name": "python3"
  },
  "language_info": {
   "codemirror_mode": {
    "name": "ipython",
    "version": 3
   },
   "file_extension": ".py",
   "mimetype": "text/x-python",
   "name": "python",
   "nbconvert_exporter": "python",
   "pygments_lexer": "ipython3",
   "version": "3.9.13"
  }
 },
 "nbformat": 4,
 "nbformat_minor": 5
}
